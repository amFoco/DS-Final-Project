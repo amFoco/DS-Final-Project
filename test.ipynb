{
 "metadata": {
  "language_info": {
   "codemirror_mode": {
    "name": "ipython",
    "version": 3
   },
   "file_extension": ".py",
   "mimetype": "text/x-python",
   "name": "python",
   "nbconvert_exporter": "python",
   "pygments_lexer": "ipython3",
   "version": "3.8.6"
  },
  "orig_nbformat": 2,
  "kernelspec": {
   "name": "python386jvsc74a57bd07c10875f3ac6b0b43074abf2c07df38bc005cd11755d9a6f0a95713c1b910c19",
   "display_name": "Python 3.8.6 64-bit"
  },
  "metadata": {
   "interpreter": {
    "hash": "7c10875f3ac6b0b43074abf2c07df38bc005cd11755d9a6f0a95713c1b910c19"
   }
  }
 },
 "nbformat": 4,
 "nbformat_minor": 2,
 "cells": [
  {
   "cell_type": "code",
   "execution_count": 1,
   "metadata": {},
   "outputs": [],
   "source": [
    "from bs4 import BeautifulSoup\n",
    "from requests import get"
   ]
  },
  {
   "cell_type": "code",
   "execution_count": 2,
   "metadata": {},
   "outputs": [],
   "source": [
    "url = 'https://www.truecar.com/used-cars-for-sale/listings/ford/mustang/location-wichita-ks/?engine[]=8%20Cylinder&engine[]=6%20Cylinder&searchRadius=5000&transmission[]=Manual'\n",
    "r = get(url)\n",
    "soup = BeautifulSoup(r.text, 'html.parser')\n"
   ]
  },
  {
   "cell_type": "code",
   "execution_count": 4,
   "metadata": {
    "tags": [
     "outputPrepend"
    ]
   },
   "outputs": [
    {
     "output_type": "stream",
     "name": "stdout",
     "text": [
      "\"fft2hif8d4qbk\",\"c1nmp90o070jnrvvvvvu\",\"0\",\"6hu\",\"7711fq7ov001u\",\"100vfvvvvtrrmvtkdk2\",\"dvcvvrn4vhm7co4fvrhu\",\"1001mnu6fgff1im4r0u\",\"107vu0u\"],[\"3006g061002vvv7010g8\",\"hu1f0403qf001g1mq0ue\",\"3v0170nvnu\",\"1000u011vvu\",\"972eg92iacfdc004fu\",\"3u551bufkphqp4qsq\",\"p7ljvk17t030u\",\"ufvvvtrug2\",\"bvv1v4j174e\",\"k12utps4vdv60t03vu\"],[\"fjqj7vvr159p75u9ihu\",\"5frf9of3pu3o3vpnvvc\",\"dvrkqog311g6fvvvo000\",\"v0g00000uh5260fv3peu\",\"edg27vvv0fvvmvvtti\",\"20200g8trvu\",\"2v0201vu0200018004vu\",\"tu\",\"srturte1637vuvsm003q\",\"2hetpl4uuh4vl0g2\"],[\"1fvsudvvpp0dfvvtvvvu\",\"1gvid65bueuvun1u1m\",\"d0fkfj9a3bom1bjv7he\",\"7dhab0nc909fsvu02\",\"7smutps197tf263e06\",\"ttq3unjcfrgbrruf5o3u\",\"e2m3ljclgsvu\",\"241ueigjk02\",\"9kcnovu7lrvoijucfa82\",\"a3q6h2c4i3q9i5hb106\"],[\"9bej34vkqtpjbbmh2tc\",\"87b4opnikofit3qpvuc\",\"7033fngedqhi000qru\",\"24k0101ne100vvvv5uju\",\"2vcndfgr1u\",\"flll15j5hir5nfu\",\"i7b0ann20vmgtl9i4me2\",\"vv00100000vvvvvu\",\"85rbbl5qrrme79cf06\",\"jiu6i4820ca4c7vaum\"],[\"1h05r143vv000008\",\"4j91knh7ueeo03003u\",\"autdbburkp02ehokt1re\",\"3geki60iuct15b0026\",\"826cpfj3mj79g\",\"3f6bnafhg6u4i5jg0fm\",\"30jr2452200a2kql302\",\"4q5908g225mj5g\",\"2g00301650a808dlcm\",\"0\"],[\"og0000001vvf03dvuvm0\",\"o0000000550001417rvu\",\"pupu809vqcsslbo07stu\",\"nr03v3gv07397v36\",\"t0000000100090l1nfvu\",\"muuu6vpdnejvmvvvvvvu\",\"t1003082a1013gvvnvvu\",\"45fvu\",\"7vvvvvvvffnvnvvvvvvu\",\"3fqtvlupuuv5vvn1m0\"],[\"cfqfvv003s0fvu7ru5m6\",\"pupg77gvpvplnvu\",\"m1tndvjdbo6u7vuvvvvu\",\"rvftvvvtvftvtvv9pnvu\",\"1o5vvvvturvpv07vu\",\"hnvtv0v7u7vsfvvrfou\",\"svtvvfvvvvnvfrvuvfvu\",\"fvuvvbfvvvvvvvvvvtm\",\"3p3u\",\"ju\"],[\"7pvlerufnuf03bhie\",\"1d7qv0vfcddvcfudm\",\"5000001010101vvvnvu\",\"10bgvtph3aq7bvhvi07u\",\"cfunnriffv5vujtvtnu\",\"evtvvnvp3j7r25f1q73u\",\"7fvvvfnmvvvvrvfv7vvu\",\"1u0vunflus\",\"g00000032bvvrmummdpu\",\"1rruvvbvnu\"]],[[\"vvfvvnvvbkvvvvruvvvs\",\"ttvfpn6vvvtsnvvvvu\",\"fvvi7vrruf83epotfs3g\",\"ak9hdjqvvprvuuvnvvvu\",\"g0005r4jvvv6qgvr5v02\",\"s0077efttsvfvrtfvv6u\",\"9cavt31feprtvg4vu\",\"7f67rvbng3da\",\"98vvvvc\",\"g000000000000000mknq\"],[\"vvvuv7vvtnnnvvvvvvvu\",\"3c0000g0213ii220g060\",\"7g000000000000036bvu\",\"auvrttu\",\"3rnvu\",\"o00000vvfvvsls5vrd0e\",\"o000000001tevnnt003u\",\"rvsvruppe9kop947imvu\",\"2fnv3nfq\",\"t8000000000000004gvu\"],[\"nm7vgefvrt2v9p3g0auo\",\"9dlfvpots0tfvvvvvv14\",\"4021vh7jvuvvunvu\",\"h0000007vffr7vuvfvvu\",\"3vn4vttvfv4fvu\",\"289s7vvg1snvr2v2uvu\",\"6s2b00usbo8rhqf6vnvu\",\"rvgrvufsmv7grdfvrtuu\",\"m270c4s7vo00nvvnvnvu\",\"a3vvvvo37m7tg7vu\"],[\"4d0u7vvv3n1fnvvvvvom\",\"vvvvvtvvfvnvvvvkimi6\",\"i00900j2705coq040020\",\"g800000h2r1vnvvvvvu\",\"u8evfvvvpgrvfvvnvvvu\",\"fs7orvvoq1tvsh7q0ro8\",\"gvnls0v11605rjvvvvu\",\"3nvvnvv04vavg03vvu\",\"e19v7fddvvvrvj791fnu\",\"r0f3v717vvgb7snvvvu\"],[\"rvvv80u19v0mvv1v02cm\",\"3fvo01mtvu\",\"1fvnflvh03gfvvovv7vu\",\"0\",\"86svvv1j0fv62vob0000\",\"0\",\"d7pvkos33s00u0000rvu\",\"40v0cfg7r8vvmig01u10\",\"0\",\"7nfugs00evv000000000\"],[\"eildsv8vfurtbu0fjr7g\",\"fvre0303usnbfrvm00\",\"fvdc0123hoisfuqvvvvu\",\"0\",\"367frqvucuv0000007u\",\"s7nvv1phvrv0000000u\",\"g0004v070vv90v07vvge\",\"3uvvvnvng0000000\",\"vo0000000000000g3vvu\",\"1urruevuv000000007u\"],[\"esfp6vm4uvfvvvt79r8\",\"20040000007171rvvvu\",\"1vuvvfr000000007u\",\"3r070fjp030fuv1u\",\"f7r43fqjmj4n30002\",\"15vvmsnrbtvrdvu8els\",\"1ap01309040j0880vfvu\",\"d3s38vqqvpna4ed000e\",\"lnvfrvg00700000u\",\"16jdci\"],[\"f3vdvvvvv7uv7vvtrv00\",\"3vrpm770frvfvs6r302\",\"12vblsnvvvu\",\"eitvvrnvnvtfvvvvfvvu\",\"100000mjnvu\",\"g00000002\",\"gnev00htu11v0013fg1m\",\"svjt7s9scfnunrt2\",\"7f7uvvv4uvb03rnrrmu\",\"f00000000101ovsvvkg6\"],[\"89n3ubttvnmhtqvnem\",\"4peu5oeak792vvflvuvq\",\"20203vq07ffjv0002\",\"fs7vnvev6fvuvujfr9e\",\"fefuovnvg000100006\",\"tftvttvvtu0000003u\",\"39nvrqpnnutvvfsjie\",\"7autniqrhuf3f000u\",\"1vrrtv7uqpovj000u\",\"7vtvvr11vv7o06\"],[\"flefsqmfui7vo0000000\",\"vgfnrvfuvrh0107nrs0\",\"a0qs06g001002410ffvu\",\"7vrlf6v5ft00lu\",\"fvh3vn60fm0ve006u\",\"10026uvvbc011vh7007e\",\"vu6sta9fg0000e\",\"2em5jv7rn100011u\",\"40304166gm376kvot800\",\"2\"]],[[\"f3vfv7v36e7dovuo\",\"f337ld3t00g6t3sg\",\"vvlf05q2vf1e0epvvvvu\",\"75pin2fvbe5mh8kmf00\",\"4qi3c8j24dl4g0cg1hs\",\"828fvg00112g282s7vvs\",\"7o00u\",\"2g8h11v4hgg0006\",\"p9cbglp03upr9ea\",\"508ek41k9airh54a1o2c\"],[\"vu3b3u0ujurvlr16vnfu\",\"gbhqqhg0iuh4oi0g16\",\"idt7h018n2kig0q\",\"413000fh06c0g4004j02\",\"441g020000320880\",\"6evtosttielks0e\",\"m9hbld3706j47u\",\"fs2tgij9j2legs06\",\"6p0tpvubml50g\",\"0\"],[\"feq3irbrtjvetv000e\",\"36pmu071rst000u\",\"b13o36ik032k0bnj6m\",\"enui3ntostfv000u\",\"vvf1n6201gbqk\",\"7g880ig880q00e\",\"8k49qg0000c\",\"8k201ktoqf0cqnvc06\",\"0\",\"0\"],[\"83vevvnbhfj7fvevrvu\",\"hg00000lfvvtf1f8nfne\",\"240g7a102013nuvvvnu\",\"1u3vvfv3vvj06\",\"vte7nfvv012tec\",\"3n1fvtf7vvvv73m\",\"k0060063mk001009nvvq\",\"aedseenvlu1rvdvua06\",\"1t658m061s\",\"bq6vcu0ffvtvf17tve\"],[\"ntvn6tdn7tvjjdau471q\",\"tv82000000nvvvvvvvvu\",\"f7bt3lbr0f7v0u7n0e\",\"a000040000000ob3nvvu\",\"f3u0b011vjvu7ttffbu\",\"100000001vnu\",\"lbtfv7nfmvfrutvntvu2\",\"g0000040010011038jvu\",\"1sf9j7nnrvvu9flfqlk\",\"7u\"],[\"3vu3v0nit009u1u\",\"6mulvtel1f0fpu7e\",\"q0015rss9vvvvvnvvuvu\",\"1tvcvtfqvvvvvfvvnvu\",\"106h1g0o0o3lvqtntju\",\"3u\",\"vtfvtugfuvftarovus02\",\"utvfuj013vhkkrnv02\",\"vrvvnvvvrrrrvfe7ntvm\",\"g0000000000000000000\"],[\"147ntvf7tjvv00fu02\",\"2v3ffvfjut1bvvdf7s\",\"819dc085jrknnjvnuovu\",\"v1vnub335v7005vg7cu\",\"3vu\",\"11070v5e3t3tuneg7rem\",\"g001000100005gagno02\",\"vuvvuvnrh1ffcf1a0r3u\",\"v01000vvvv101010rgvu\",\"bnvltjd7sf7fvfqfnv0u\"],[\"1000fvv1vu72a\",\"g1005l7v037vfvjtvnek\",\"f0t1p01np3nvp000e\",\"2tfv1ru7vubnvj7l00fs\",\"3ttvurafumj00fu\",\"e3bjvocmefn676tvjs02\",\"801310gs1trg1vf02\",\"1417v9njvbu\",\"1nrnrftvv7eu0000tu\",\"7vufdjvttnqv0drve0nu\"],[\"vvrvjvvvgjvvvtfe5knu\",\"dfvtvpvnsv3rvrfvfvvq\",\"80t4vh100tvvvvvvvu\",\"496f7j6fm9ef3vvvfvuu\",\"13fvvfrjnvtufvv02\",\"7v0006g0g0nu\",\"200h4evvk7fvvvvvvu\",\"4001fvvhvvtvvv01fa\",\"7vvvvv7nvvvvfvnvvevi\",\"10000220049gkvfq2\"],[\"vvtvvvfvffffvvuvvvvu\",\"1v1ne6u\",\"vumnvuvvv7vtsj000u\",\"72vvvfvfvnnu\",\"8rvvrv7jvvvfru\",\"g080000110ag0h98rlvu\",\"21rtnpfpnrrtvvvfvv02\",\"nebvnhrnnevpvpvvvfn2\",\"3u7ruvbu9st3vqn7vkf6\",\"3tvpdf49jl7vf9e\"]],[[\"g000bvvvvnuvvuvf0vve\",\"rvvfvvvvvvtv7vu\",\"furuvnuvvvvduve2\",\"bu0300svg001jvtvvvvu\",\"vvfvjvvujrver0006\",\"tvbevrvfumbvrfvvvj02\",\"77vvntvtubvvviuvu\",\"4u\",\"vsqvfnb000002\",\"f0000014120000000\"],[\"fbvvjvrvtrnvu\",\"2ru\",\"1vvtn000002\",\"3pdj7f8q000002\",\"7fpvvvif000002\",\"a00vf3vvvrv7vvb010e\",\"2vv1u700000a\",\"0\",\"0\",\"0\"],[\"g000vvrh6tvvvf00000u\",\"17rvvimn3s000002\",\"5uvv7etvvvvu\",\"6ruvnvtvvftv6\",\"s00000000000000003vu\",\"1rbr6vvf7vot7r000002\",\"1vvvnt77rg002\",\"euv3vvv4uvu70002\",\"vu\",\"0\"],[\"tvrfrtjvu7vlvumvvvfu\",\"1nvuu7c0uvuvs5v7phpu\",\"19808g08g0005ofvvvvu\",\"0\",\"fu\",\"vpvvvvjfvrvvfvvff7fu\",\"0\",\"vrs4g00000g0030vqfu\",\"7jefvu\",\"pvvvuvnvrtib02\"],[\"40000000000fv7qnu\",\"15rj7nvgbv3vrhv6u\",\"731lu37vtm\",\"g000g0afu\",\"pvvnjvntvnuf79vvfvvu\",\"bvvlffunnjlu02\",\"1nnvvruvnvvrv0e\",\"vvvvjvfvvvv000e\",\"3bo13vdmvpvvv5unmt32\",\"13vujvv65vv7fuehuiu\"],[\"5ttvvv97unvefnjuvva\",\"111g113g0bvvvvvu\",\"0\",\"f7vmvvuvvtnvvvtvvvvu\",\"fpol41phvvvvvvvvvu\",\"gc005cg00g0000000000\",\"3snu\",\"ff7vl6vpefrmbv3vufvs\",\"3nfu\",\"7denvtvnvnvjunvs5ju\"],[\"ebtv9updfnfunvvvmrke\",\"7bbvvnvfnvumtfvr02\",\"7utvur7tfeprn7vvrns2\",\"v8vmvusvvtlvrvvrvvsu\",\"mltvirduvfq100002\",\"vvrvvvf6vvvfqtvvj06\",\"frqfuftvmimruag002\",\"fvj8nfuvv3r02\",\"0\",\"o00007v0011g1801108m\"],[\"ffvutvvfvvvnft7u\",\"c820000000000000c1vq\",\"qvrvv6vevu7rus02\",\"g03vjrvurprnlnrulu02\",\"2nvv37nr7vtun0006\",\"1hmnuthecreuof0002\",\"3u7rnqv3f0002\",\"gvddjdmvrndid51lugie\",\"0\",\"0\"],[\"2vmtvuuvfbfk2fevm\",\"3m00vs\",\"6fvn7vjgrvbttqlfu\",\"3nklve7ebqp7lqeb02\",\"7levvk6rbm9vqbrvb816\",\"3nfrvokhn9for007u\",\"3vnvqn7f0006\",\"1tturfpfv5aj7r5eaf5u\",\"2slo9b00000e\",\"0\"],[\"vuvvvutt6qvvvlrveu\",\"7mfu\",\"3p0fvtcv033etu02\",\"qlqud6svu02\",\"ntkmvv6vev3t5nun3u\",\"7ld7vv0002\",\"dvru3p000m\",\"607rnvbjftnvr4e\",\"1vfprqfv5vvr04eu\",\"7vvfvv0q\"]],[[\"vrvuvvtn3bfvtrj7vvvk\",\"nvvrvupvnvfvvvqvvfvu\",\"8u\",\"g000000000000000001u\",\"g34nvvvvvvvvvvrvv7uu\",\"o03004vrvvrvun7fvv7u\",\"nrvndpqjnunvuvrvvvvu\",\"k62\",\"40001o\",\"puvvvrnrvuntv02\"],[\"2tjtvdvkvuuu7djrve2\",\"7301nvu\",\"g01uvt3vun0vvv00000i\",\"vvsvqprnfvvvvv02\",\"3rtvvv5pvsfvvfvvv06\",\"7tvptfvnvrpm002\",\"3v0avph03v7u\",\"g300fvgjrvtvvvvv01hm\",\"tfv3svvvvgv3nfv0e\",\"7agvefphkv00\"],[\"dvvvvjlfqvvh7vfuvvi6\",\"0\",\"dsrnturvvtrvuv3fvgfu\",\"1rp7fvuvrqhjriu32\",\"3vqvvonvvqufvsr02\",\"fdbfrvrvv3vtt02\",\"1vpu5vfvj3gtprvmdf02\",\"2i2260nu6000i02cj6fu\",\"vvvvvnvvqvqvvvtvvnua\",\"vtdsntnvvvufpvevvlve\"],[\"g3shkvr37ftvuvbvnv30\",\"l085s2mpf37rvvvvvvvu\",\"0\",\"1vvu9vekfvuqt00000u\",\"uvfuvffvv000002\",\"7bv6vrvv000002\",\"1p3t3r91efvv0002\",\"5vjjmp97ftv500000e\",\"7vpud5fv3kpvv0002\",\"7n7v1vnu000006\"],[\"edrvvvvvfv817honvu06\",\"v3chg3fufvviuvvruvr6\",\"0\",\"0\",\"uvnvnrvavqrvuvuv0006\",\"fu\",\"qfivcjvvvvvf9t0002\",\"18rq7nej5fvppbt0002\",\"pfuvpsv3v00000u\",\"g0000000000000000000\"],[\"1vvkvupvufvk3per02\",\"3vu\",\"g07vrh1vvjepmf00f61e\",\"11jthvtnv0016\",\"2og9aumcirq00000g6\",\"3qt037hn5ae3kg00002\",\"5r7jsuvftvjfvntvvvq\",\"bvqtvvnns7ntvvv5vfk\",\"s1000000000000004hvu\",\"0\"],[\"5vf9rf6vavvvjf7rfte4\",\"100000000tfju\",\"3c20000300007vvvvu\",\"0\",\"2g7qmvtvuuu\",\"luvvuevflve\",\"g0081040004021jnvnvq\",\"fvfkffqqfrs9h6v02\",\"frvvvjdpp000002\",\"1evrervvd000002\"],[\"vffvvl6v3rvudpu\",\"jnmtdu4tsnvu\",\"f001000015ebvvvu\",\"r7unn7t000002\",\"75vbpehvnvuu7dde106\",\"1qrtfrmtfo01jvrv1m\",\"1ulrurvttmve0002\",\"meetrvv000002\",\"5u3tvlrivvi000002\",\"v0000000012\"],[\"fvuv1fnurrdvhtu\",\"c00dr40g4k5kvvcsuvvu\",\"0\",\"7v7fntnvvvfvvvplq\",\"7vftfvurovvpnu\",\"880000000k06uv6lvu\",\"nvpusvfuuv0006\",\"7vrurvrvevfrvvtvr06\",\"ervjvrtvvfufvft0e\",\"7vvmjvlvvvtvt0006\"],[\"3vutvv0002\",\"10003vf7vvv9vtf000a\",\"3un02\",\"7bfvfbnq000002\",\"0\",\"0\",\"0\",\"0\",\"0\",\"0\"]],[[\"6v7vrfttvvkruf0003ju\",\"11nuvl7vuvbeg3vuvs00\",\"0\",\"5v035u0rvs3vg0000106\",\"3nvvvvufqm7000u\",\"aejvf3gdrnqvduvvvvvu\",\"pvvvfpsvg036n6\",\"6vtftlvntsputvepn6g\",\"bu0ggo0000007a7fvvvu\",\"0\"],[\"5pfvr97vpsvsqq0uu\",\"63u2vo0fpg1pfvu\",\"1m2nndqrirlfdtnfsfke\",\"davfvrbfirvt30me\",\"6039luvfvlubpvvsvjnq\",\"0\",\"fj7fvu6tp3000e0e\",\"53sovtt03bn0202\",\"3ntu77vufd0006\",\"o0000frnudhv5cgf0pge\"],[\"g0vvrtvrtefvvvvvvv7u\",\"g10fr9vhedhfnvvvvveu\",\"100000011000025ennnu\",\"3nmomtvhpve7rfvnjf0a\",\"4rvnnvrlvfvvmnv1u\",\"5qvevn3p3tuvvvlc0a\",\"7dl5qftr9vrvqona06\",\"2prneelnvts6vu0u\",\"19fu7fttur0606\",\"v7vrfteauobu\"],[\"vdjttvvuvvtvqvvvvvvu\",\"3hggodltnvvvnnvvvvvu\",\"0\",\"g00000002\",\"2c2000br9uvvt10000e\",\"fvnvvuvuvuf007e\",\"8uvpjfmo4fl0002\",\"favvpmuvrulu03e\",\"1te8v9k000006\",\"103nkse000002\"],[\"1vvvefrvfuvvufvvbu\",\"c6407g0vdv27vu3nlfu\",\"0\",\"1vvplnttf000002\",\"47tvvn7nvnve000e\",\"enlfvsn9brpe0006\",\"f6r6f00000m\",\"2jjtdbfruv0006\",\"r9evhnnptmvnj800m\",\"3tnqvvn7000006\"],[\"svvffntvuvvvrtvvnrm6\",\"l70cvrvvuvdk7rvhju\",\"5o517v0vuvfvvvvnvu\",\"dvg7qvc1vg04i0211c0a\",\"7vvfvvo7vvuvvurvfvku\",\"g0000vvvrj000000005q\",\"uvv07ufuv5vub0010fu\",\"s7ptof3tvn0000000fvu\",\"2l0017rfvhpu00000e\",\"101vsrvqiquvvr0100u\"],[\"vsfkcbfrpvorjq8fvvvu\",\"vf17k02u11c17vmvvvvu\",\"ffupfvjopf001vu\",\"phkvnp4m00000003v6\",\"37q3nvvttrsnfmg0006\",\"u000srniuhsvsrftoa8u\",\"fnnqb7j7vpvvvuu0000\",\"s0000000000000003nfu\",\"1ftdvjmvspm6mdr000u\",\"dbhbnt0000ru\"],[\"rvvvvvvvvvvvvvvvvvvu\",\"0\",\"kfsllvvevupvfrvvvdvu\",\"iavvvuttvrvvvuf1b03u\",\"euvvvrvrvvvv7vqdtv6m\",\"c7fvdubv1vn6rv0fvnfu\",\"11vn30fg7nsnu00\",\"3109fu\",\"7rffund1vfr0000fe\",\"1rusvrsv4j000000001u\"],[\"3vnvvl3vg0vunvvu\",\"vjnfv1f1uvusm\",\"vuppo1rrvvvvvvvvvvvu\",\"blvnvovtfkvrd000000\",\"104v900000060vvvu\",\"vvrtvtvvsftfv02f201u\",\"20f7vnvvvbvrvuvvvvk\",\"g008osfvvvvmvvvvvvpu\",\"3rkf030f4futs00006\",\"fmvvv9u000000\"],[\"fufvsdbuuu3vjulmrvte\",\"h08ka0g000000jujvu\",\"2v7drnrnb0002\",\"fufmpvb7sq3js2u00\",\"gb00000g4c00010o3vuu\",\"7f29vrvtv3u7bu\",\"s00000000000000000fu\",\"rfe5rvrkpvpr03ovfu\",\"1uvcvn020000\",\"v001a0839vvvfnvtfvfu\"]],[[\"7nfr7vvv7u\",\"3f1300fvvvefvu\",\"gr020q3vm3uqvvvvvnvu\",\"hvu\",\"c0cfvrvanuutvtvvg00e\",\"bnvvtfv7v0u\",\"vrtou0v1n0e\",\"tjnv7uuf0012\",\"2v00033vvvvttm\",\"5000410503m6vvvvvvvu\"],[\"7km6akstlnrqplvg7vu\",\"5murffrv0006\",\"10000000e8vnffv1702\",\"1nvr000e\",\"1vvtrr0e\",\"7v007u\",\"ftvfvf3r1706\",\"0\",\"0\",\"0\"],[\"u0f0bpv00000001ne\",\"1000000000000000000\",\"t00lutt02\",\"3mlu0102\",\"10f1vaf0n02\",\"p3t02\",\"qtv90110hm\",\"7lbfn02\",\"1lvu000002\",\"1uvvhc0006\"],[\"100u06\",\"evrv02\",\"7aem0e3v3qvtubdvju\",\"1tuvftdvau0e\",\"vt1nrvbqtv1g3u\",\"1svvnb3t0002\",\"6167i37vfuvvusn77k\",\"g0000000200016rlnuvu\",\"6vvjfvvvnt7u3vru\",\"0\"],[\"fvvvrvvvvvnvvuvvfrvu\",\"g10h0310c7daovvvvvvu\",\"g00000002\",\"3vvvvvvvm\",\"1ktu\",\"5nvrfbf02\",\"5t7uvtvvuv003u\",\"30vjv7vvvnvvvrvrv02\",\"0\",\"0\"],[\"7drvvv0rbvvvuvvvvu\",\"v008c00005ft7cfs000\",\"v07v5iuvvvqg2o3g3vvu\",\"35dfvunvvvvvvuvv87vu\",\"0\",\"vfvjv000006\",\"3009tbrvvvvvrve\",\"10007nvvvvbvvvvu\",\"0\",\"7vvvt0606\"],[\"s7trvpvf21u\",\"0\",\"0\",\"20fvunv1s1u\",\"3vvvm00eju\",\"205h90011nfs\",\"0\",\"0\",\"0\",\"0\"],[\"8058vievvfmvvfvvm\",\"vv5i2g008q0g021vnvvu\",\"0\",\"101g404000ffnf16\",\"g000000210000003vd06\",\"k0fvqnleutptftvvvvu\",\"g0000000000\",\"dnd3vos9v02\",\"7tr0002\",\"fnb000002\"],[\"2041ebuvvqvvv0evu\",\"3t3vrs0e\",\"dt3t0n07030b0e\",\"1vvvu11qen02\",\"jr6mvj02\",\"11vvvvvfvpvvrvvrtv00\",\"0\",\"0\",\"800000000000000000\",\"12\"],[\"7i4h430svvmvvvvvvu\",\"ha19s9jvvvvvvvvvvvvu\",\"0\",\"vj02\",\"2000000107vnvvvvpvvs\",\"h00001005000080bhfvu\",\"0\",\"20u3u\",\"8000000001vbf100e\",\"0\"]],[[\"jruvvvvvvvvvvvvvvvvu\",\"g0000000000g000000\",\"3v01dl7v1jt7gf0v0fg6\",\"7vu\",\"3vu\",\"1vu\",\"103070701sf0v01vu\",\"10vt0u0b7v6u\",\"h000000008el1u041pvu\",\"0\"],[\"4020002f031r67ua\",\"g0pk0000000000jqfhvu\",\"3m0hvu\",\"3t7v665nvv3v5rvnibvu\",\"j0040100000020282fvu\",\"2e01fu\",\"fnvu\",\"frhbfvurlvrlvgs3jq6\",\"i000000000000000000u\",\"41u00c03bu1u027vre\"],[\"2ebupnvjvmi1u9vvorso\",\"ve64vvvbptldvnuvvvvu\",\"3vfpevvvsvjv7d030e\",\"tujkfuroul7nvutvfvti\",\"489bfu\",\"jfnu074u7uroi706uovu\",\"cv9ovs0fvvu041vpvlns\",\"g00700000000108006fu\",\"g07fs3vvm13vfu1e7mvu\",\"0\"],[\"gg00007v000v3v0v3vnu\",\"g100000101010103e3ve\",\"77dvnfffnnvtl7vr5fu\",\"1vp0000000000000uvu\",\"8101rfvvvftuv05ve\",\"i72i000fbvjujnusvt1m\",\"19vn6vvvvrfvrvvu\",\"v20vu1j115j41vvfnvu\",\"800000000g00000000\",\"51p0t0dfv14f6\"],[\"v90h3v000vt1fvvj14\",\"80440ro27vkvvvvnts\",\"vrttsqseulthnlg002vo\",\"ju\",\"4000000000000000000u\",\"v7vfvvvvvfvvvrvvvvve\",\"27g0g0000vtvvu\",\"105vu\",\"100000100fu\",\"o000vv3p7vv7sbvt1s0q\"],[\"7b7v3v3uvf2rtvvu\",\"2v000d0jvv83rvvvvfqa\",\"600000k0duv76vvvhvvu\",\"42vfvtvrfvfrfpvvvfnq\",\"4tf72fvvuvrunfvvv5nu\",\"10l00bttrvvdemfioi0e\",\"vvvvvvvvrvbnvvvrvvvu\",\"o000201cs06630an5sga\",\"gg00007h0e0ffvvvvu00\",\"eevvvvfvrvvvlvtvt0a\"],[\"nvvhrrtuvnujtutvnrue\",\"7fnbf7tvvvvvq\",\"400obamlc200000g8tvu\",\"vlvvd403m8u3aeg3ia\",\"2\",\"p000c0045vqftn07735m\",\"bu2etvvv41hu0eonnfvu\",\"nfrvuvvvnvvvsvv7vtvq\",\"8000000bspuru1bvvvvu\",\"101070vg6oand00\"],[\"i1v3dtfrpnvvuvvrvu\",\"vrfvtuvvue\",\"av2f00u0av05qftvvvvu\",\"2nrrfrvnd7furbnm4vvu\",\"vvujvbnuvvuvvnipnvvu\",\"rvvft000u\",\"3vt7v000u\",\"3qv02vv0707se\",\"3t7ptmm1bvvpfpst02\",\"1crvu\"],[\"ckc5v9uvf7fvvvvhvvu\",\"pj92dhbj9gbiqqnmvvvu\",\"7vevvv6vvftrvfvv08eq\",\"fvfvfvfvvvrtvfvv1n1o\",\"u902027g00foob0mvevu\",\"nfvvn7rvvlenvfel2evu\",\"7s1vbv03tvt6rvmvnu\",\"0\",\"5vfvr6vuunu46\",\"fevvt3f00su\"],[\"1mvnfuurq\",\"13irmrvvurvrruvrhu\",\"1a600008pvvvu\",\"20fmtvqf9qv0006\",\"e\",\"g3vbvuvqvvv101gvvrvu\",\"5vvvvnvvvvtrvvvvhvvs\",\"3rvfvvvvvvvuvnv2nvu\",\"1033dnj060e\",\"10000veo00a\"]]]},\"vehicle\":{},\"vehicleCompare\":{\"failedState\":false,\"vehicleSpecs\":{}},\"vehicleCount\":803450,\"vehicleMeta\":{\"loading\":null,\"error\":null},\"vehicleSpecs\":{\"vehicleSpecs\":{}},\"virtualVehicles\":{\"makes\":[],\"models\":[],\"styles\":[],\"defaultStyle\":{},\"vehicleClasses\":[],\"viprMake\":{},\"viprModel\":{},\"viprStyle\":{}},\"zipInputForm\":{\"error\":false}};window.__INTERACTION_MODE__=\"mouse\";window.__ENTRY_POINT__=\"home\";window.__BREAKPOINT__=\"lg\";\n    </script>\n<script id=\"__LOADABLE_REQUIRED_CHUNKS__\" type=\"application/json\">[3,4,5,14,10,0,2,6,1,9,11,8,17,16,7,15,13,12,171,19,20,31,170,18,22,23,219]</script><script id=\"__LOADABLE_REQUIRED_CHUNKS___ext\" type=\"application/json\">{\"namedChunks\":[\"partners-truecar-TruecarPartnerThemedProvider\",\"partners-truecar-TrueCarPartnerLayout\",\"used-pages-MarketplaceSearchPage-MarketplaceSearchPage\"]}</script>\n<script async=\"\" data-chunk=\"home\" src=\"https://consumer.tcimg.net/assets/21-05/runtime.6c1b51db8fd4ca71869f.js\"></script>\n<script async=\"\" data-chunk=\"home\" src=\"https://consumer.tcimg.net/assets/21-05/vendors~253ae210.abf5877db4e00f3ad144.js\"></script>\n<script async=\"\" data-chunk=\"home\" src=\"https://consumer.tcimg.net/assets/21-05/vendors~2972e603.b2c00cc08699261c3a19.js\"></script>\n<script async=\"\" data-chunk=\"home\" src=\"https://consumer.tcimg.net/assets/21-05/vendors~2a42e354.becae58534de29bc61a9.js\"></script>\n<script async=\"\" data-chunk=\"home\" src=\"https://consumer.tcimg.net/assets/21-05/vendors~d939e436.b070da561bcdca85c5b6.js\"></script>\n<script async=\"\" data-chunk=\"home\" src=\"https://consumer.tcimg.net/assets/21-05/vendors~739cf782.3ffad35564c20399ca75.js\"></script>\n<script async=\"\" data-chunk=\"home\" src=\"https://consumer.tcimg.net/assets/21-05/vendors~11bb84b7.ecf8dfd2dffa7a5536c2.js\"></script>\n<script async=\"\" data-chunk=\"home\" src=\"https://consumer.tcimg.net/assets/21-05/vendors~203e0718.924828f07dc2f0603c0a.js\"></script>\n<script async=\"\" data-chunk=\"home\" src=\"https://consumer.tcimg.net/assets/21-05/vendors~44e9874e.1907378e2657111259b6.js\"></script>\n<script async=\"\" data-chunk=\"home\" src=\"https://consumer.tcimg.net/assets/21-05/vendors~1f20a385.17d5ed42db89cc9f2237.js\"></script>\n<script async=\"\" data-chunk=\"home\" src=\"https://consumer.tcimg.net/assets/21-05/vendors~70aabc29.00e92583e1bd4da0152c.js\"></script>\n<script async=\"\" data-chunk=\"home\" src=\"https://consumer.tcimg.net/assets/21-05/vendors~b58f7129.e00c30156654ad3e1da9.js\"></script>\n<script async=\"\" data-chunk=\"home\" src=\"https://consumer.tcimg.net/assets/21-05/vendors~678f84af.da79c2a0cc82040740cf.js\"></script>\n<script async=\"\" data-chunk=\"home\" src=\"https://consumer.tcimg.net/assets/21-05/vendors~fd731fb0.9410bcdc02f5c8097756.js\"></script>\n<script async=\"\" data-chunk=\"home\" src=\"https://consumer.tcimg.net/assets/21-05/vendors~f734b0c6.fee79cf5abdfc5177ab4.js\"></script>\n<script async=\"\" data-chunk=\"home\" src=\"https://consumer.tcimg.net/assets/21-05/vendors~62bec46e.45a7154920af712611b4.js\"></script>\n<script async=\"\" data-chunk=\"home\" src=\"https://consumer.tcimg.net/assets/21-05/vendors~ec8c427e.e47d566357dd399f5ad7.js\"></script>\n<script async=\"\" data-chunk=\"home\" src=\"https://consumer.tcimg.net/assets/21-05/vendors~c4d99284.aff0cb919de95acbba5e.js\"></script>\n<script async=\"\" data-chunk=\"home\" src=\"https://consumer.tcimg.net/assets/21-05/vendors~b8524521.28300e22b52dcc1f19a7.js\"></script>\n<script async=\"\" data-chunk=\"home\" src=\"https://consumer.tcimg.net/assets/21-05/home.be795e1088d1ccd3461a.js\"></script>\n<script async=\"\" data-chunk=\"partners-truecar-TruecarPartnerThemedProvider\" src=\"https://consumer.tcimg.net/assets/21-05/partners-truecar-TruecarPartnerThemedProvider.ba8ac19c41829f722a7c.js\"></script>\n<script async=\"\" data-chunk=\"partners-truecar-TrueCarPartnerLayout\" src=\"https://consumer.tcimg.net/assets/21-05/account-pages-FavoritesHubPage~partners-aaa-AaaPartnerLayout~partners-aaa2-Aaa2PartnerLayout~partner~cadb7317.e4c830b40fa64a12e027.js\"></script>\n<script async=\"\" data-chunk=\"partners-truecar-TrueCarPartnerLayout\" src=\"https://consumer.tcimg.net/assets/21-05/partners-aaa-AaaPartnerLayout~partners-aaa2-Aaa2PartnerLayout~partners-aaa8-Aaa8PartnerLayout~partne~b32260bc.774ce04bc2bf3e48137f.js\"></script>\n<script async=\"\" data-chunk=\"partners-truecar-TrueCarPartnerLayout\" src=\"https://consumer.tcimg.net/assets/21-05/home-pages-MyTrueCar~partners-truecar-TrueCarPartnerLayout.dd273afd0a548cea26e2.js\"></script>\n<script async=\"\" data-chunk=\"partners-truecar-TrueCarPartnerLayout\" src=\"https://consumer.tcimg.net/assets/21-05/partners-truecar-TrueCarPartnerLayout.7eed8ece4993b6816f5c.js\"></script>\n<script async=\"\" data-chunk=\"used-pages-MarketplaceSearchPage-MarketplaceSearchPage\" src=\"https://consumer.tcimg.net/assets/21-05/FeatureFlagDevTools~default-DefaultPageContent~home-components-LandingPages-LeasingLandingApp~home-c~121aac71.0264e355a13debe15577.js\"></script>\n<script async=\"\" data-chunk=\"used-pages-MarketplaceSearchPage-MarketplaceSearchPage\" src=\"https://consumer.tcimg.net/assets/21-05/account-pages-FavoritesHubPage~default-DefaultPageContent~home-components-DealerLogin~home-component~63fa0adc.47741fd7f09df067f749.js\"></script>\n<script async=\"\" data-chunk=\"used-pages-MarketplaceSearchPage-MarketplaceSearchPage\" src=\"https://consumer.tcimg.net/assets/21-05/account-pages-FavoritesHubPage~home-pages-HomePage-truecar-TrueCarHomePage~home-pages-MilitaryLandin~dcb87c0e.3b0fd10ae2b79895edff.js\"></script>\n<script async=\"\" data-chunk=\"used-pages-MarketplaceSearchPage-MarketplaceSearchPage\" src=\"https://consumer.tcimg.net/assets/21-05/used-pages-MarketplaceSearchPage-MarketplaceSearchPage.b9b755cb22b590178c80.js\"></script>\n</body>\n</html>\n"
     ]
    }
   ],
   "source": [
    "print(soup)"
   ]
  },
  {
   "cell_type": "code",
   "execution_count": 5,
   "metadata": {},
   "outputs": [
    {
     "output_type": "stream",
     "name": "stdout",
     "text": [
      "33\n"
     ]
    }
   ],
   "source": [
    "posts = soup.find_all('a', {'class': 'linkable order-2 vehicle-card-overlay'})\n",
    "print(len(posts))"
   ]
  },
  {
   "cell_type": "code",
   "execution_count": null,
   "metadata": {},
   "outputs": [],
   "source": [
    "temp = soup.find_all('a', {'class':'page-link'})[9]['aria-label'].split(\" \")[1]\n"
   ]
  },
  {
   "cell_type": "code",
   "execution_count": 6,
   "metadata": {},
   "outputs": [
    {
     "output_type": "stream",
     "name": "stdout",
     "text": [
      "12\n"
     ]
    }
   ],
   "source": [
    "for i in range(1, temp):\n",
    "    posts = soup.find_all('a', {'class': 'linkable order-2 vehicle-card-overlay'})\n",
    "    for p in posts:\n",
    "        "
   ]
  },
  {
   "cell_type": "code",
   "execution_count": 10,
   "metadata": {},
   "outputs": [
    {
     "output_type": "execute_result",
     "data": {
      "text/plain": [
       "'Page 71'"
      ]
     },
     "metadata": {},
     "execution_count": 10
    }
   ],
   "source": [
    "test[9]['aria-label']"
   ]
  },
  {
   "cell_type": "code",
   "execution_count": 8,
   "metadata": {},
   "outputs": [
    {
     "output_type": "execute_result",
     "data": {
      "text/plain": [
       "'Page 1'"
      ]
     },
     "metadata": {},
     "execution_count": 8
    }
   ],
   "source": [
    "test[0]['aria-label']"
   ]
  },
  {
   "cell_type": "code",
   "execution_count": null,
   "metadata": {},
   "outputs": [],
   "source": []
  }
 ]
}