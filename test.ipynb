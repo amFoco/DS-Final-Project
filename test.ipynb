{
 "metadata": {
  "language_info": {
   "codemirror_mode": {
    "name": "ipython",
    "version": 3
   },
   "file_extension": ".py",
   "mimetype": "text/x-python",
   "name": "python",
   "nbconvert_exporter": "python",
   "pygments_lexer": "ipython3",
   "version": "3.9.4"
  },
  "orig_nbformat": 2,
  "kernelspec": {
   "name": "python394jvsc74a57bd03faf17de123bcda6419610acc6b34a663870666c5ab768fcfaaae3c23ee7f58d",
   "display_name": "Python 3.9.4 64-bit"
  },
  "metadata": {
   "interpreter": {
    "hash": "3faf17de123bcda6419610acc6b34a663870666c5ab768fcfaaae3c23ee7f58d"
   }
  }
 },
 "nbformat": 4,
 "nbformat_minor": 2,
 "cells": [
  {
   "cell_type": "code",
   "execution_count": 78,
   "metadata": {},
   "outputs": [],
   "source": [
    "from bs4 import BeautifulSoup\n",
    "from requests import get"
   ]
  },
  {
   "cell_type": "code",
   "execution_count": 79,
   "metadata": {},
   "outputs": [],
   "source": [
    "url = 'https://www.truecar.com/used-cars-for-sale/listings/ford/mustang/location-wichita-ks/?engine[]=6%20Cylinder&engine[]=8%20Cylinder&searchRadius=5000&sort[]=price_asc&titleHistory[]=hide-lemon&titleHistory[]=hide-frame-damage&titleHistory[]=hide-theft-recovery&titleHistory[]=hide-salvage&transmission[]=Manual'\n",
    "r = get(url)\n",
    "soup = BeautifulSoup(r.text, 'html.parser')\n"
   ]
  },
  {
   "source": [
    "print(soup)"
   ],
   "cell_type": "markdown",
   "metadata": {
    "tags": [
     "outputPrepend"
    ]
   }
  },
  {
   "cell_type": "code",
   "execution_count": 80,
   "metadata": {},
   "outputs": [
    {
     "output_type": "execute_result",
     "data": {
      "text/plain": [
       "'/used-cars-for-sale/listing/1ZVBP8AN2A5126486/2010-ford-mustang/?sponsoredVehiclePosition=0'"
      ]
     },
     "metadata": {},
     "execution_count": 80
    }
   ],
   "source": [
    "posts = soup.find_all('a', {'class': 'linkable order-2 vehicle-card-overlay'})\n",
    "posts[0]['href']\n"
   ]
  },
  {
   "cell_type": "code",
   "execution_count": 81,
   "metadata": {},
   "outputs": [],
   "source": [
    "temp = soup.find_all('a', {'class':'page-link'})[9]['aria-label'].split(\" \")[1]\n"
   ]
  },
  {
   "cell_type": "code",
   "execution_count": 82,
   "metadata": {},
   "outputs": [
    {
     "output_type": "error",
     "ename": "TypeError",
     "evalue": "'str' object cannot be interpreted as an integer",
     "traceback": [
      "\u001b[1;31m---------------------------------------------------------------------------\u001b[0m",
      "\u001b[1;31mTypeError\u001b[0m                                 Traceback (most recent call last)",
      "\u001b[1;32m<ipython-input-82-d001b0fa11c6>\u001b[0m in \u001b[0;36m<module>\u001b[1;34m\u001b[0m\n\u001b[1;32m----> 1\u001b[1;33m \u001b[1;32mfor\u001b[0m \u001b[0mi\u001b[0m \u001b[1;32min\u001b[0m \u001b[0mrange\u001b[0m\u001b[1;33m(\u001b[0m\u001b[1;36m1\u001b[0m\u001b[1;33m,\u001b[0m \u001b[0mtemp\u001b[0m\u001b[1;33m)\u001b[0m\u001b[1;33m:\u001b[0m\u001b[1;33m\u001b[0m\u001b[1;33m\u001b[0m\u001b[0m\n\u001b[0m\u001b[0;32m      2\u001b[0m     \u001b[0mposts\u001b[0m \u001b[1;33m=\u001b[0m \u001b[0msoup\u001b[0m\u001b[1;33m.\u001b[0m\u001b[0mfind_all\u001b[0m\u001b[1;33m(\u001b[0m\u001b[1;34m'a'\u001b[0m\u001b[1;33m,\u001b[0m \u001b[1;33m{\u001b[0m\u001b[1;34m'class'\u001b[0m\u001b[1;33m:\u001b[0m \u001b[1;34m'linkable order-2 vehicle-card-overlay'\u001b[0m\u001b[1;33m}\u001b[0m\u001b[1;33m)\u001b[0m\u001b[1;33m\u001b[0m\u001b[1;33m\u001b[0m\u001b[0m\n\u001b[0;32m      3\u001b[0m     \u001b[1;32mfor\u001b[0m \u001b[0mp\u001b[0m \u001b[1;32min\u001b[0m \u001b[0mposts\u001b[0m\u001b[1;33m:\u001b[0m\u001b[1;33m\u001b[0m\u001b[1;33m\u001b[0m\u001b[0m\n\u001b[0;32m      4\u001b[0m         \u001b[0mnew_url\u001b[0m \u001b[1;33m=\u001b[0m \u001b[0murl\u001b[0m \u001b[1;33m+\u001b[0m \u001b[0mp\u001b[0m\u001b[1;33m[\u001b[0m\u001b[1;34m'href'\u001b[0m\u001b[1;33m]\u001b[0m\u001b[1;33m\u001b[0m\u001b[1;33m\u001b[0m\u001b[0m\n",
      "\u001b[1;31mTypeError\u001b[0m: 'str' object cannot be interpreted as an integer"
     ]
    }
   ],
   "source": [
    "for i in range(1, temp):\n",
    "    posts = soup.find_all('a', {'class': 'linkable order-2 vehicle-card-overlay'})\n",
    "    for p in posts:\n",
    "        new_url = url + p['href']"
   ]
  },
  {
   "cell_type": "code",
   "execution_count": 93,
   "metadata": {},
   "outputs": [
    {
     "output_type": "stream",
     "name": "stdout",
     "text": [
      "https://www.truecar.com/used-cars-for-sale/listing/1ZVBP8AN2A5126486/2010-ford-mustang/?sponsoredVehiclePosition=0\n"
     ]
    }
   ],
   "source": [
    "new_url = \"https://www.truecar.com\" + posts[0]['href']\n",
    "\n",
    "print(new_url)\n",
    "new_r = get(new_url)\n",
    "new_soup = BeautifulSoup(new_r.text, 'html.parser')\n"
   ]
  },
  {
   "cell_type": "code",
   "execution_count": 96,
   "metadata": {},
   "outputs": [
    {
     "output_type": "execute_result",
     "data": {
      "text/plain": [
       "[<div class=\"padding-left-1\"><div class=\"heading-5\" data-qa=\"Heading\">Exterior Color</div>Kona Blue Metallic</div>,\n",
       " <div class=\"padding-left-1\"><div class=\"heading-5\" data-qa=\"Heading\">Style</div>V6 Coupe</div>,\n",
       " <div class=\"padding-left-1\"><div class=\"heading-5\" data-qa=\"Heading\">Interior Color</div>Charcoal Black</div>,\n",
       " <div class=\"padding-left-1\"><div class=\"heading-5\" data-qa=\"Heading\">MPG</div>18 cty / 26 hwy</div>,\n",
       " <div class=\"padding-left-1\"><div class=\"heading-5\" data-qa=\"Heading\">Engine</div>4.0L V-6 Gas</div>,\n",
       " <div class=\"padding-left-1\"><div class=\"heading-5\" data-qa=\"Heading\">Transmission</div>Manual</div>,\n",
       " <div class=\"padding-left-1\"><div class=\"heading-5\" data-qa=\"Heading\">Drive Type</div>RWD</div>,\n",
       " <div class=\"padding-left-1\"><div class=\"heading-5\" data-qa=\"Heading\">Fuel Type</div>Gas</div>,\n",
       " <div class=\"padding-left-1\"><div class=\"heading-5\" data-qa=\"Heading\">Mileage</div>154,079</div>,\n",
       " <div class=\"padding-left-1\"><div class=\"heading-5\" data-qa=\"Heading\">Options Level</div>Standard</div>]"
      ]
     },
     "metadata": {},
     "execution_count": 96
    }
   ],
   "source": [
    "new_soup.find_all('div', {'class': 'padding-left-1'})"
   ]
  },
  {
   "cell_type": "code",
   "execution_count": 100,
   "metadata": {},
   "outputs": [
    {
     "output_type": "execute_result",
     "data": {
      "text/plain": [
       "'$8,943'"
      ]
     },
     "metadata": {},
     "execution_count": 100
    }
   ],
   "source": [
    "new_soup.find('div', {'class': 'label-block-text'}).text"
   ]
  },
  {
   "cell_type": "code",
   "execution_count": 89,
   "metadata": {},
   "outputs": [
    {
     "output_type": "execute_result",
     "data": {
      "text/plain": [
       "rules-expire-job\":true,\"inactive-event-job-enabled\":false,\"prospected-vdp-capture-sidekiq-job\":true,\"automate-offers-prospects-backfill-sizing\":0,\"consumers-purge-job\":false,\"abt-deal-builder-finalize-deal\":\"challenger\",\"abt-apple-auth\":\"3auth\",\"enable-trim-offsets-sync-job\":false,\"abt-save-time-at-the-dealer\":\"challenger\",\"abt-marketplace-identity-score-threshold\":475,\"enable-manual-offer-tool-rebrand-mailer\":true,\"inactive-consumer-retention-days\":7,\"iterable-consumer-retention-days\":false,\"enable_unassigned_prospect_post_crm_event\":false,\"abt-preferred-listings\":\"challenger1\",\"dfe-payments-review-reporting\":true,\"sold-vehicle-alerts-enabled\":true,\"abt-dealerconnect\":\"challenger\",\"offers-message-lead-backfill-break\":false,\"abt-local-style\":\"control1\",\"abt-saved-builds\":\"challenger\",\"native-app-review\":\"Challenger\",\"listings-price-curve\":true,\"abt-dsa-new-car-selector\":\"dsa:\\u002F\\u002Fprecalc-proximity?bypass_exclusions=2&autonation_exclusions=true&dealership_bypass_exemptions=true&algorithm_name=HOLDOUT-precalc-proximity-bypass2-exemptions-noan\",\"abt-finance-prequal\":\"control2\",\"fix-slow-prospect-search\":true,\"abt-na-native-app-review\":\"Challenger\",\"abt-trade-ranged-value\":\"control1\",\"enable-sumoforce-sales-analyzer-updates\":true,\"enable-report-product-updates\":false,\"hackathon-onsite-seen-collapse\":false,\"abt-dealer-portal-send-messages\":\"control\",\"abt-mo-above-fold-refresh\":\"control2\",\"abt-enable-verification\":\"challenger\",\"abt-show-all-cars-in-showroom-srp\":\"control2\",\"abt-decode-srp\":\"control2\",\"abt-checkout-cpos\":\"challenger\",\"communications-dual-writing\":false,\"disable-accutrade-event-based-tcdc-partner-emails\":false,\"abt-price-graph-mo\":\"challenger2\",\"abt-aa-test\":\"control1\",\"my-little-pony-caching-enabled\":false,\"enable-pricing-rules-kinesis-stream\":true,\"internal-auth-login-no-more-legacy\":false,\"dfe-prospect-search-all-time\":false,\"trade-user-hub\":\"challenger\",\"automate-offers-prospects-backfill-spacing\":0,\"used-curve-sage-maker\":true,\"test-flag-dawang\":false,\"bypass-modal-flow\":false,\"automate-computed-position-backfill-sizing\":1000000,\"enable-sponsored-listing-rules-streaming\":true,\"enable-whitepages\":true,\"abt-rearrange-social-logins\":\"control2\",\"inventory-count-batch-size\":1000,\"enable-demo-portal-for-trade-dsa\":true,\"abt-vdp-tabbed-payments-checkout\":\"challenger\",\"recovery-state-1\":false,\"abp-be-listings-disable-default-incentives-lookup\":false,\"automate-consumer-backfill-sizing\":75000,\"abt-bx-above-the-fold\":\"challenger1\",\"enable-pricing-manager\":true,\"lambda-feature-flag\":false,\"abt-sams-giftcard\":false,\"enable-reach-tier-a-for-all-franchise-dealerships\":true,\"abt-recommended-search-v2-enabled\":false,\"enable-dealer-delta-stream\":true,\"abt-vehicle-card-maap-unlock\":\"challenger\",\"abt-direct2pp\":\"unlock1lock4-control1\",\"abt-remote-purchasing\":\"challenger1\",\"abt-full-site-search\":\"control2\",\"abt-new-aggregations-refactor\":true,\"abt-enable-view-counts\":false,\"abt-olapic-carousel\":\"challenger1\",\"inventory-count-job-enabled\":true,\"dealer-portal-weekly-pricing-update-email\":true,\"price-report-conquest-banner\":true,\"abt-defer-tealium\":\"control2\",\"abt-enable-es-market-average-range\":true,\"lead-router-smtp-secondary\":true,\"dealerships-enabled-for-drive-motors\":false,\"stale-build-retention-batch-size\":1000000,\"offers-consumer-backfill-limit\":50000,\"event-expiration-days\":365,\"dfe-verified-credit-score\":false,\"inactive-consumer-retention-batch-size\":100000,\"dynamic-footer\":true,\"enable-purchasing-profile-backfill\":false,\"dfe-dealer-trade-appraisal-tool\":false,\"iterable-backfill-enabled\":true,\"avis-target-rockfin-endpoint\":true,\"my-little-pony-debug\":false,\"dealerships-enabled-for-payments\":\"\\\"\\\"\",\"abt-checkout\":\"challenger\",\"abt-trade-flow-splash\":\"control2\",\"truetalk-nps-enabled\":true,\"dp-prospect-search-new\":true,\"abt-ins-placement\":\"challenger\",\"recovery-state-1-used-lp\":false,\"truewish-flag\":false,\"dp-enable-new-prospect-link\":true,\"saved_search_email_enabled\":true,\"abt-consumer-app-navigation\":\"control1\",\"dfe-new-invoices-page-statements-tab\":true,\"idm-perform-publish\":false,\"abt-my-offers-hub\":\"challenger\",\"dsa-allow-autonation-tests\":false,\"abt-mo-redirects\":\"challenger\",\"targeted-incentive-link\":true,\"abt-deal-builder-digital-retail\":\"challenger\",\"abt-checkout-credit-score-check\":\"control2\",\"sales-matching-job-enabled\":false,\"partner-events\":true,\"enable-virtual-dealerships-for-trade\":false,\"abt-cookie-banner\":\"challenger1\",\"dfe-offer-vehicle-drawer-redesign\":true,\"post-prospect-no-inventory-contact\":false,\"abt-price-report-savings-finder\":\"control1\",\"abt-bx-smoketest\":\"challenger2\",\"carmax\":false,\"dfe-finalized-deal-online\":true,\"nested-query-es-fields\":true,\"abt-trade-on-post-prospect\":\"challenger\",\"enable-second-sell-only-lead\":false,\"abt-truetalk-inventory-link\":false,\"enable-target-configuration\":true,\"communications-platform-enabled\":true,\"user-reg-consent-checkbox\":true,\"abt-copychanges-postprospect\":\"control2\",\"abt-new-service-refactor\":true,\"abt-insurance-marketplace\":\"challenger1\",\"dsa_scoring_model_name\":\"no_price_variant\",\"show-consolidated-partner-hero\":false,\"enable-price-ratio-curve-calculations\":false,\"edit-vehicle-module-flag\":false,\"disable-mx-domain-validation\":false,\"recovery-state-2\":false,\"abt-sams-club-model-select-banner\":\"control2\",\"listings-aggregations-cache-location\":true,\"abt-payments-maap-unlocked\":\"challenger\",\"disable-asset-submission-to-salesforce\":false,\"automate-search-lead-backfill-spacing\":0,\"abt-used-price-rating\":\"control1\",\"abt-financial-flow-widget\":\"challenger1\",\"abt-enabled-new-marketplace-lead-distance\":{\"dealerParentIds\":[1826],\"dealershipIds\":[15848]},\"launch-partner-homes\":false,\"abt-google-dealer-reviews\":\"challenger1\",\"abt-checkout-protection-products\":\"challenger\",\"dfe-e-contracting-allow-tc-admin-purchases\":false,\"pricing-rules-kinesis-stream-backfill\":false,\"amex-mr\":false,\"abt-protection-product-videos\":\"control1\",\"abt-unified-search\":\"challenger\",\"abt-lead-enrichment\":\"challenger\",\"maap-state-whitelist\":\"AL,AK,AZ,AR,CA,CO,CT,DE,FL,GA,HI,ID,IL,IN,IA,KS,KY,LA,ME,MD,MA,MI,MN,MS,MO,MT,NE,NV,NH,NJ,NM,NY,NC,ND,OH,OK,OR,PA,RI,SC,SD,TN,TX,UT,VT,VA,WA,WV,WI,WY\",\"enable-deduplication-for-events-in-dealer-portal-timeline\":true,\"enable-geode-territory-updates\":true,\"abt-trim-pricing-module\":\"control2\",\"dp-recovery-state-3\":true,\"pricing-rules-backfill-for-autonation\":false,\"abt-new-car-sort-v2\":\"challenger3\",\"abt-trade-unlock-badge\":\"challenger\",\"post-prospect-covid-banner\":\"control2\",\"job-core-events-stream-backfill-enabled\":true,\"abt-increase-payment-defaults\":\"control1\",\"dfe-mobile-messaging-permission\":false,\"enable-abp-backend-archive\":true,\"abt-navbar-terms-of-service-link\":\"control2\",\"abt-savings-finder\":false,\"limit-sales-analyzer-date-range\":false,\"truetalk-suppress-mileone\":true,\"header-footer-redesign\":false,\"abt-save-favorite\":\"challenger\",\"mercedes-benz-pto-program\":false,\"offers-consumer-backfill\":false,\"abt-checkout-for-used\":\"control2\",\"abt-privatepartner-text\":\"control1\",\"trade-legacy-registration\":true,\"enable-certificates-backfill\":false,\"abt-marchex-phone-leads\":false,\"toggle-event-fetcher-elasticsearch\":true,\"stale-build-retention-days\":30,\"editorial-enabled\":true,\"dfe-notifications-settings-page\":true,\"abt-trim-selector\":\"challenger\",\"enable_dsa_experiments\":true,\"dfe-next-steps-finalize-deal\":true,\"dsa-sponsored-dealership-bump\":false,\"vipr-comparable-vehicles\":false,\"enable-product-listings-available-email-job\":true},\"userKey\":\"615ec8fd-8afa-4ddf-b91d-822828958031\",\"customAttributes\":{\"pagId\":120,\"subdomain\":\"www\",\"nativeApp\":false,\"device\":\"Unknown\",\"platform\":\"Other\"}},\"filters\":{\"styles\":{}},\"finance\":{\"disclaimers\":{},\"result\":{\"amountFinanced\":\"0.0\",\"apr\":\"0.0\",\"monthlyPayment\":\"0.0\",\"downpayment\":0,\"status\":\"OK\",\"term\":0,\"tradeInAmount\":\"0.0\",\"tradeInPayment\":\"0.0\"},\"error\":null,\"loading\":false,\"notFound\":false,\"searchExisting\":false,\"approval\":{},\"preloaded\":false,\"processed\":false,\"loadedExisting\":false},\"galleryImages\":{},\"geoIp\":{\"decodedZip\":\"\",\"decodedState\":\"\",\"geodeLocation\":{},\"accuracyRadius\":null,\"ipAddress\":\"50.30.163.7\",\"loading\":false,\"loaded\":false},\"googleAuthentication\":{\"loading\":false,\"verified\":false,\"error\":\"\"},\"home\":{\"buttonsWaypoint\":false},\"homeData\":{\"makes\":{\"newMakes\":[],\"usedMakes\":[],\"newMakesSelectorError\":false,\"usedMakesSelectorError\":false},\"models\":{\"models\":[],\"modelsWithRatings\":[]}},\"incentives\":{},\"inventoryMessages\":{\"inventoryMessages\":{},\"loading\":false,\"error\":\"\"},\"inventorySearch\":{\"filters\":{\"newnessMode\":\"search_used\",\"sort\":[\"best_match\"]},\"currentSearchUrl\":\"\",\"urlParams\":{},\"results\":{\"page\":1,\"perPage\":30,\"listings\":[],\"total\":0,\"fallback\":false,\"refineParameters\":{},\"location\":{\"postalCode\":\"\"},\"display\":{}},\"status\":{\"success\":null,\"error\":null,\"errorMessage\":null,\"errorType\":null}},\"isLoading\":false,\"layout\":{},\"lead\":{\"crossSell\":null,\"submitting\":false,\"success\":false,\"formErrors\":{},\"error\":\"\",\"id\":null,\"uuid\":null,\"createDate\":null},\"leadset\":{\"leads\":[]},\"listing\":{},\"listings\":{\"usedComparables\":{},\"recommendedComparables\":{\"loading\":false,\"error\":false,\"listings\":[]}},\"makeIncentives\":{},\"makeModels\":[],\"makes\":[],\"makesModels\":{\"loading\":true,\"newMakes\":[],\"usedMakes\":[],\"modelOverviewMakes\":[]},\"models\":{},\"myOffers\":{\"loading\":false,\"error\":null,\"data\":{\"offers\":[],\"offerPayments\":[]}},\"newCarLead\":{\"loading\":false,\"error\":\"\",\"leadSetId\":null},\"oemCoupon\":{\"data\":null,\"autoSubmitting\":false,\"error\":null,\"loadError\":null,\"isLoading\":false,\"statusCode\":null},\"oemLandingContent\":{\"loading\":false,\"error\":\"\",\"data\":null},\"offer\":{},\"offerTrade\":{\"loaded\":false,\"error\":null,\"data\":null},\"paymentsCalculatedPayments\":{\"loading\":false,\"success\":false,\"failure\":false,\"payments\":{},\"batchLoading\":false,\"batchSuccess\":false,\"batchFailure\":false,\"batchPayments\":[]},\"paymentsParams\":{\"loading\":false,\"success\":false,\"failure\":false,\"leaseLoanLoading\":false,\"leaseLoanSuccess\":false,\"leaseLoanFailure\":false,\"lease\":null,\"loan\":null},\"paymentsPaymentProfile\":{\"loading\":false,\"success\":false,\"failure\":false,\"saveLoading\":false,\"saveSuccess\":false,\"saveFailure\":false,\"settings\":null},\"paymentsSaveCalculatedPayments\":{\"loading\":false,\"success\":false,\"failure\":false,\"request\":null,\"response\":null},\"paymentsSavedPayments\":{\"loading\":false,\"success\":false,\"failure\":false,\"deleteLoading\":false,\"deleteSuccess\":false,\"deleteFailure\":false,\"payments\":[],\"listings\":[]},\"paymentsUserPayments\":{\"loading\":false,\"success\":false,\"failure\":false,\"lease\":null,\"loan\":null},\"pncParams\":{\"source\":\"\",\"memberId\":\"\"},\"pricesNew\":{\"viprMakes\":{},\"viprModels\":{},\"viprStyles\":[],\"modelStyles\":{},\"marketPricing\":{},\"styleColors\":{},\"stylePopularConfigurations\":{},\"styleOptions\":{},\"styleIncentives\":{},\"conquestMapping\":{},\"styleDealerships\":{},\"current\":{\"viprMakeSlug\":null,\"viprModelSlug\":null,\"viprModelYear\":null,\"viprStyleId\":null,\"defaultModelYear\":false,\"exteriorColorId\":null,\"interiorColorId\":null,\"incentiveIds\":null,\"optionIds\":{\"selectedIds\":[],\"requiredIds\":[],\"includedIds\":[]},\"popularConfigurationId\":null,\"userSelectedStyle\":\"false\",\"userSelectedIncentives\":\"false\",\"userSelectedExteriorColor\":\"false\",\"userSelectedInteriorColor\":\"false\"}},\"rankingsList\":{},\"registrationForm\":{\"form\":{\"loading\":false,\"submitted\":false,\"fields\":{\"name\":{\"dirty\":false,\"error\":\"\",\"value\":\"\"},\"email\":{\"dirty\":false,\"error\":\"\",\"value\":\"\"},\"createPassword\":{\"dirty\":false,\"error\":\"\",\"value\":\"\"},\"enterPassword\":{\"dirty\":false,\"error\":\"\",\"value\":\"\"},\"confirmPassword\":{\"dirty\":false,\"error\":\"\",\"value\":\"\"},\"phone\":{\"dirty\":false,\"error\":\"\",\"value\":\"\"},\"address\":{\"dirty\":false,\"error\":\"\",\"value\":\"\"},\"apt\":{\"dirty\":false,\"error\":\"\",\"value\":\"\"},\"zipcode\":{\"dirty\":false,\"error\":\"\",\"value\":\"\"},\"smsCode\":{\"dirty\":false,\"error\":\"\",\"value\":\"\"},\"terms\":{\"dirty\":false,\"error\":\"\",\"value\":false},\"memberId\":{\"dirty\":false,\"error\":\"\",\"value\":\"\"}},\"error\":\"\"},\"leadZipCode\":null,\"phoneConfirmed\":false,\"deliveryType\":\"sms\",\"userExists\":false,\"returnUser\":false,\"noDealersNearby\":false,\"forgotPassword\":false,\"passwordReset\":false,\"validResetToken\":false,\"redirectUrl\":\"\",\"stepOverride\":null,\"skipAccountPassword\":false},\"reportPurchase\":{\"pageState\":\"initial\",\"errorMessage\":null,\"settings\":null,\"email\":null,\"leads\":[]},\"savedBuild\":{\"loading\":false,\"error\":null,\"tooltip\":false,\"data\":{},\"loaded\":false},\"savedSearch\":{\"loading\":false,\"error\":null,\"tooltip\":false,\"data\":{},\"loaded\":false},\"savedTradeEstimates\":{\"loading\":false,\"error\":null,\"data\":{}},\"savedVehicles\":{\"vins\":[],\"vinsLoaded\":false,\"error\":\"\"},\"scroll\":{},\"searchMeta\":{\"count\":null,\"loading\":false,\"page\":null,\"perPage\":null,\"params\":{},\"currentZipcode\":null,\"sortOrder\":null,\"listPrice\":{\"min\":null,\"max\":null},\"refineParameters\":null,\"fallback\":null,\"searchLocation\":{\"city\":\"\",\"state\":\"\",\"zip\":\"\",\"slug\":\"\"},\"keywordSearchUsed\":\"\"},\"sendMobileAppLink\":{\"isSent\":false,\"isLoading\":false,\"error\":null},\"seo\":{\"canonical\":\"https:\\u002F\\u002Fwww.truecar.com\\u002Fused-cars-for-sale\\u002Flisting\\u002F1ZVBP8AN2A5126486\\u002F2010-ford-mustang\\u002F?sponsoredVehiclePosition=0\"},\"softCreditPull\":{\"session\":{\"loading\":false,\"success\":false,\"failure\":false,\"sessionId\":\"\",\"carrierUrl\":\"\"},\"network\":{\"loading\":false,\"success\":false,\"failure\":false},\"consent\":{\"loading\":false,\"success\":false,\"failure\":false,\"allowIdentityLookup\":false},\"sendOtp\":{\"loading\":false,\"success\":false,\"failure\":false,\"transactionKey\":\"\"},\"validateOtp\":{\"loading\":false,\"success\":false,\"failure\":false},\"questions\":{\"loading\":false,\"success\":false,\"failure\":false},\"score\":{\"loading\":false,\"success\":false,\"failure\":false},\"consumer\":{\"loading\":false,\"success\":false,\"failure\":false},\"answers\":{\"loading\":false,\"success\":false,\"failure\":false}},\"statusCode\":{\"statusCode\":null,\"notFoundError\":false,\"notFoundErrorDuringSSR\":false},\"styles\":{\"postalCode\":\"\"},\"syncToMobile\":{\"isSent\":false,\"isLoading\":false,\"error\":null},\"targetedIncentive\":null,\"tradeLanding\":{\"error\":null,\"loading\":false,\"styles\":[],\"ymmError\":false},\"tradePricingAdjustments\":{\"conditions\":{\"loading\":false,\"error\":null,\"data\":null},\"options\":{\"loading\":false,\"error\":null,\"data\":null},\"colors\":{\"loading\":false,\"error\":null,\"data\":null}},\"tradePricingEstimate\":{\"loading\":false,\"error\":null,\"data\":null},\"tradeVirtualVehicles\":{\"makes\":[],\"models\":[],\"styles\":[]},\"unlockMaapVehicles\":{\"loading\":false,\"success\":false,\"failure\":false,\"response\":null},\"usedAggregations\":{\"loading\":false,\"data\":{}},\"userAgent\":\"python-requests\\u002F2.25.1\",\"userOffers\":null,\"users\":{\"isLoading\":false,\"error\":false,\"success\":false,\"message\":{},\"consumerEvents\":[],\"suppressUnlockModalUuids\":[],\"isAmexRewardModalOpen\":true,\"amexRewardData\":{\"walletId\":null,\"contextId\":null}},\"validZipCodes\":{\"recentmost\":null,\"allValid\":null},\"vehicle\":{},\"vehicleCompare\":{\"failedState\":false,\"vehicleSpecs\":{}},\"vehicleCount\":800000,\"vehicleMeta\":{\"loading\":null,\"error\":null},\"vehicleSpecs\":{\"vehicleSpecs\":{}},\"virtualVehicles\":{\"makes\":[],\"models\":[],\"styles\":[],\"defaultStyle\":{},\"vehicleClasses\":[],\"viprMake\":{},\"viprModel\":{},\"viprStyle\":{}},\"zipInputForm\":{\"error\":false}};window.__INTERACTION_MODE__=\"mouse\";window.__ENTRY_POINT__=\"home\";window.__BREAKPOINT__=\"lg\";\n",
       "    </script>\n",
       "<script id=\"__LOADABLE_REQUIRED_CHUNKS__\" type=\"application/json\">[3,4,5,14,10,0,2,6,1,9,11,8,17,16,7,15,13,12,171,19,20,31,170,18,22,218]</script><script id=\"__LOADABLE_REQUIRED_CHUNKS___ext\" type=\"application/json\">{\"namedChunks\":[\"partners-truecar-TruecarPartnerThemedProvider\",\"partners-truecar-TrueCarPartnerLayout\",\"used-pages-MarketplaceRedesignedVDPPage\"]}</script>\n",
       "<script async=\"\" data-chunk=\"home\" src=\"https://consumer.tcimg.net/assets/21-05/runtime.d0ed99dc20aadcf562f8.js\"></script>\n",
       "<script async=\"\" data-chunk=\"home\" src=\"https://consumer.tcimg.net/assets/21-05/vendors~253ae210.abf5877db4e00f3ad144.js\"></script>\n",
       "<script async=\"\" data-chunk=\"home\" src=\"https://consumer.tcimg.net/assets/21-05/vendors~2972e603.b2c00cc08699261c3a19.js\"></script>\n",
       "<script async=\"\" data-chunk=\"home\" src=\"https://consumer.tcimg.net/assets/21-05/vendors~2a42e354.becae58534de29bc61a9.js\"></script>\n",
       "<script async=\"\" data-chunk=\"home\" src=\"https://consumer.tcimg.net/assets/21-05/vendors~d939e436.b070da561bcdca85c5b6.js\"></script>\n",
       "<script async=\"\" data-chunk=\"home\" src=\"https://consumer.tcimg.net/assets/21-05/vendors~739cf782.3ffad35564c20399ca75.js\"></script>\n",
       "<script async=\"\" data-chunk=\"home\" src=\"https://consumer.tcimg.net/assets/21-05/vendors~11bb84b7.ecf8dfd2dffa7a5536c2.js\"></script>\n",
       "<script async=\"\" data-chunk=\"home\" src=\"https://consumer.tcimg.net/assets/21-05/vendors~203e0718.924828f07dc2f0603c0a.js\"></script>\n",
       "<script async=\"\" data-chunk=\"home\" src=\"https://consumer.tcimg.net/assets/21-05/vendors~44e9874e.1907378e2657111259b6.js\"></script>\n",
       "<script async=\"\" data-chunk=\"home\" src=\"https://consumer.tcimg.net/assets/21-05/vendors~1f20a385.17d5ed42db89cc9f2237.js\"></script>\n",
       "<script async=\"\" data-chunk=\"home\" src=\"https://consumer.tcimg.net/assets/21-05/vendors~70aabc29.00e92583e1bd4da0152c.js\"></script>\n",
       "<script async=\"\" data-chunk=\"home\" src=\"https://consumer.tcimg.net/assets/21-05/vendors~b58f7129.e00c30156654ad3e1da9.js\"></script>\n",
       "<script async=\"\" data-chunk=\"home\" src=\"https://consumer.tcimg.net/assets/21-05/vendors~678f84af.da79c2a0cc82040740cf.js\"></script>\n",
       "<script async=\"\" data-chunk=\"home\" src=\"https://consumer.tcimg.net/assets/21-05/vendors~fd731fb0.9410bcdc02f5c8097756.js\"></script>\n",
       "<script async=\"\" data-chunk=\"home\" src=\"https://consumer.tcimg.net/assets/21-05/vendors~f734b0c6.fee79cf5abdfc5177ab4.js\"></script>\n",
       "<script async=\"\" data-chunk=\"home\" src=\"https://consumer.tcimg.net/assets/21-05/vendors~62bec46e.45a7154920af712611b4.js\"></script>\n",
       "<script async=\"\" data-chunk=\"home\" src=\"https://consumer.tcimg.net/assets/21-05/vendors~ec8c427e.e47d566357dd399f5ad7.js\"></script>\n",
       "<script async=\"\" data-chunk=\"home\" src=\"https://consumer.tcimg.net/assets/21-05/vendors~c4d99284.aff0cb919de95acbba5e.js\"></script>\n",
       "<script async=\"\" data-chunk=\"home\" src=\"https://consumer.tcimg.net/assets/21-05/vendors~b8524521.28300e22b52dcc1f19a7.js\"></script>\n",
       "<script async=\"\" data-chunk=\"home\" src=\"https://consumer.tcimg.net/assets/21-05/home.10aecce66f6be265e11b.js\"></script>\n",
       "<script async=\"\" data-chunk=\"partners-truecar-TruecarPartnerThemedProvider\" src=\"https://consumer.tcimg.net/assets/21-05/partners-truecar-TruecarPartnerThemedProvider.ba8ac19c41829f722a7c.js\"></script>\n",
       "<script async=\"\" data-chunk=\"partners-truecar-TrueCarPartnerLayout\" src=\"https://consumer.tcimg.net/assets/21-05/account-pages-FavoritesHubPage~partners-aaa-AaaPartnerLayout~partners-aaa2-Aaa2PartnerLayout~partner~cadb7317.e4c830b40fa64a12e027.js\"></script>\n",
       "<script async=\"\" data-chunk=\"partners-truecar-TrueCarPartnerLayout\" src=\"https://consumer.tcimg.net/assets/21-05/partners-aaa-AaaPartnerLayout~partners-aaa2-Aaa2PartnerLayout~partners-aaa8-Aaa8PartnerLayout~partne~b32260bc.774ce04bc2bf3e48137f.js\"></script>\n",
       "<script async=\"\" data-chunk=\"partners-truecar-TrueCarPartnerLayout\" src=\"https://consumer.tcimg.net/assets/21-05/home-pages-MyTrueCar~partners-truecar-TrueCarPartnerLayout.dd273afd0a548cea26e2.js\"></script>\n",
       "<script async=\"\" data-chunk=\"partners-truecar-TrueCarPartnerLayout\" src=\"https://consumer.tcimg.net/assets/21-05/partners-truecar-TrueCarPartnerLayout.7eed8ece4993b6816f5c.js\"></script>\n",
       "<script async=\"\" data-chunk=\"used-pages-MarketplaceRedesignedVDPPage\" src=\"https://consumer.tcimg.net/assets/21-05/FeatureFlagDevTools~default-DefaultPageContent~home-components-LandingPages-LeasingLandingApp~home-c~121aac71.0264e355a13debe15577.js\"></script>\n",
       "<script async=\"\" data-chunk=\"used-pages-MarketplaceRedesignedVDPPage\" src=\"https://consumer.tcimg.net/assets/21-05/account-pages-FavoritesHubPage~default-DefaultPageContent~home-components-DealerLogin~home-component~63fa0adc.47741fd7f09df067f749.js\"></script>\n",
       "<script async=\"\" data-chunk=\"used-pages-MarketplaceRedesignedVDPPage\" src=\"https://consumer.tcimg.net/assets/21-05/used-pages-MarketplaceRedesignedVDPPage.4426abec0248c5f80983.js\"></script>\n",
       "</body>\n",
       "</html>"
      ]
     },
     "metadata": {},
     "execution_count": 89
    }
   ],
   "source": [
    "new_soup"
   ]
  },
  {
   "cell_type": "code",
   "execution_count": null,
   "metadata": {},
   "outputs": [],
   "source": []
  },
  {
   "cell_type": "code",
   "execution_count": 2,
   "metadata": {},
   "outputs": [],
   "source": [
    "import pandas as pd\n",
    "data = pd.read_excel('CarData.xlsx')"
   ]
  },
  {
   "cell_type": "code",
   "execution_count": 3,
   "metadata": {},
   "outputs": [
    {
     "output_type": "execute_result",
     "data": {
      "text/plain": [
       "Index(['Engine', 'Mileage', 'Exterior Color', 'price'], dtype='object')"
      ]
     },
     "metadata": {},
     "execution_count": 3
    }
   ],
   "source": [
    "data.columns"
   ]
  },
  {
   "cell_type": "code",
   "execution_count": 6,
   "metadata": {},
   "outputs": [
    {
     "output_type": "execute_result",
     "data": {
      "text/plain": [
       "(950, 4)"
      ]
     },
     "metadata": {},
     "execution_count": 6
    }
   ],
   "source": [
    "data.shape\n"
   ]
  },
  {
   "cell_type": "code",
   "execution_count": null,
   "metadata": {},
   "outputs": [],
   "source": []
  }
 ]
}