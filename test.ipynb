{
 "metadata": {
  "language_info": {
   "codemirror_mode": {
    "name": "ipython",
    "version": 3
   },
   "file_extension": ".py",
   "mimetype": "text/x-python",
   "name": "python",
   "nbconvert_exporter": "python",
   "pygments_lexer": "ipython3",
   "version": "3.9.4"
  },
  "orig_nbformat": 2,
  "kernelspec": {
   "name": "python394jvsc74a57bd03faf17de123bcda6419610acc6b34a663870666c5ab768fcfaaae3c23ee7f58d",
   "display_name": "Python 3.9.4 64-bit"
  },
  "metadata": {
   "interpreter": {
    "hash": "3faf17de123bcda6419610acc6b34a663870666c5ab768fcfaaae3c23ee7f58d"
   }
  }
 },
 "nbformat": 4,
 "nbformat_minor": 2,
 "cells": [
  {
   "cell_type": "code",
   "execution_count": 97,
   "metadata": {},
   "outputs": [],
   "source": [
    "from bs4 import BeautifulSoup\n",
    "from requests import get"
   ]
  },
  {
   "cell_type": "code",
   "execution_count": 98,
   "metadata": {},
   "outputs": [
    {
     "output_type": "stream",
     "name": "stdout",
     "text": [
      "118\n"
     ]
    }
   ],
   "source": [
    "response = get('https://www.ebay.com/sch/Cars-Trucks/6001/i.html?_from=R40&_sop=2&Transmission=Manual&Number%2520of%2520Cylinders=6%7C8&_dcat=6236&rt=nc&_udlo=500&UF_single_selection=Make%3AFord%2CModel%3AMustang&UF_context=finderType%3AVEHICLE_FINDER&_sacat=6001&_stpos=67220&_fspt=1&Model%2520Year=1980%7C1981%7C1982%7C1983%7C1984%7C1985%7C1986%7C1987%7C1988%7C1989%7C1990%7C1991%7C1992%7C1993%7C1994%7C1995%7C1996%7C1997%7C1998%7C1999%7C2000%7C2001%7C2002%7C2003%7C2004%7C2005%7C2006%7C2007%7C2008%7C2009%7C2010%7C2011%7C2012%7C2013%7C2014%7C2015%7C2016%7C2017%7C2018%7C2019%7C2020%7C2021&_blrs=recall_filtering&_nkw=Ford+Mustang&_ipg=200')\n",
    "soup = BeautifulSoup(response.text, 'html.parser')\n",
    "results = soup.find_all('div', {'class': 's-item__info clearfix'})\n",
    "print(len(results))"
   ]
  },
  {
   "cell_type": "code",
   "execution_count": 100,
   "metadata": {
    "tags": []
   },
   "outputs": [
    {
     "output_type": "execute_result",
     "data": {
      "text/plain": [
       "[<td class=\"attrLabels\">\n",
       " \t\t\t\t\t\t\t\t\t \t\t\tCondition:</td>,\n",
       " <td class=\"attrLabels\">\n",
       " \t\t\t\t\t\t\t\t\t \t\t\tYear: </td>,\n",
       " <td class=\"attrLabels\">\n",
       " \t\t\t\t\t\t\t\t\t \t\t\tVIN (Vehicle Identification Number): </td>,\n",
       " <td class=\"attrLabels\">\n",
       " \t\t\t\t\t\t\t\t\t \t\t\tMileage: </td>,\n",
       " <td class=\"attrLabels\">\n",
       " \t\t\t\t\t\t\t\t\t \t\t\tInterior Color: </td>,\n",
       " <td class=\"attrLabels\">\n",
       " \t\t\t\t\t\t\t\t\t \t\t\tMake: </td>,\n",
       " <td class=\"attrLabels\">\n",
       " \t\t\t\t\t\t\t\t\t \t\t\tBody Type: </td>,\n",
       " <td class=\"attrLabels\">\n",
       " \t\t\t\t\t\t\t\t\t \t\t\tModel: </td>,\n",
       " <td class=\"attrLabels\">\n",
       " \t\t\t\t\t\t\t\t\t \t\t\tNumber of Cylinders: </td>,\n",
       " <td class=\"attrLabels\">\n",
       " \t\t\t\t\t\t\t\t\t \t\t\tSub Model: </td>,\n",
       " <td class=\"attrLabels\">\n",
       " \t\t\t\t\t\t\t\t\t \t\t\tTransmission: </td>,\n",
       " <td class=\"attrLabels\">\n",
       " \t\t\t\t\t\t\t\t\t \t\t\tTrim: </td>,\n",
       " <td class=\"attrLabels\">\n",
       " \t\t\t\t\t\t\t\t\t \t\t\tDoors: </td>,\n",
       " <td class=\"attrLabels\">\n",
       " \t\t\t\t\t\t\t\t\t \t\t\tFor Sale By: </td>,\n",
       " <td class=\"attrLabels\">\n",
       " \t\t\t\t\t\t\t\t\t \t\t\tOptions: </td>,\n",
       " <td class=\"attrLabels\">\n",
       " \t\t\t\t\t\t\t\t\t \t\t\tSafety Features: </td>,\n",
       " <td class=\"attrLabels\">\n",
       " \t\t\t\t\t\t\t\t\t \t\t\tWarranty: </td>,\n",
       " <td class=\"attrLabels\">\n",
       " \t\t\t\t\t\t\t\t\t \t\t\tPower Options: </td>,\n",
       " <td class=\"attrLabels\">\n",
       " \t\t\t\t\t\t\t\t\t \t\t\tVehicle Title: </td>,\n",
       " <td class=\"attrLabels\">\n",
       " \t\t\t\t\t\t\t\t\t \t\t\tFuel Type: </td>,\n",
       " <td class=\"attrLabels\">\n",
       " \t\t\t\t\t\t\t\t\t \t\t\tExterior Color: </td>,\n",
       " <td class=\"attrLabels\">\n",
       " \t\t\t\t\t\t\t\t\t \t\t\tEngine Description: </td>]"
      ]
     },
     "metadata": {},
     "execution_count": 100
    }
   ],
   "source": [
    "one = results[1]\n",
    "# str(one).split(\"class=\")\n",
    "new_url = one.find('a', {'class': 's-item__link'})['href']\n",
    "new_response = get(new_url)\n",
    "new_soup = BeautifulSoup(new_response.text, 'html.parser')\n",
    "# print(new_soup)\n",
    "info = new_soup.find_all('td', {'class': 'attrLabels'})\n",
    "info"
   ]
  },
  {
   "cell_type": "code",
   "execution_count": 96,
   "metadata": {},
   "outputs": [
    {
     "output_type": "execute_result",
     "data": {
      "text/plain": [
       "'1999 Ford Mustang COBRA SVT'"
      ]
     },
     "metadata": {},
     "execution_count": 96
    }
   ],
   "source": [
    "one.find('h3', {'class': 's-item__title'}).find('span', {'class':'BOLD'}).text.strip()"
   ]
  },
  {
   "cell_type": "code",
   "execution_count": 88,
   "metadata": {
    "tags": []
   },
   "outputs": [
    {
     "output_type": "execute_result",
     "data": {
      "text/plain": [
       "'\\n1999'"
      ]
     },
     "metadata": {},
     "execution_count": 88
    }
   ],
   "source": [
    "info2 = new_soup.find_all('td', {'width': '50.0%'})\n",
    "info2[0].text"
   ]
  },
  {
   "cell_type": "code",
   "execution_count": 89,
   "metadata": {},
   "outputs": [
    {
     "output_type": "execute_result",
     "data": {
      "text/plain": [
       "'VIN (Vehicle Identification Number):'"
      ]
     },
     "metadata": {},
     "execution_count": 89
    }
   ],
   "source": [
    "info[1].text.strip()"
   ]
  },
  {
   "cell_type": "code",
   "execution_count": 90,
   "metadata": {},
   "outputs": [
    {
     "output_type": "execute_result",
     "data": {
      "text/plain": [
       "15"
      ]
     },
     "metadata": {},
     "execution_count": 90
    }
   ],
   "source": [
    "len(info)"
   ]
  },
  {
   "cell_type": "code",
   "execution_count": 91,
   "metadata": {},
   "outputs": [
    {
     "output_type": "execute_result",
     "data": {
      "text/plain": [
       "{'Year:': '1999',\n",
       " 'VIN (Vehicle Identification Number):': '1FAFP47V9XF214755',\n",
       " 'Mileage:': '222704',\n",
       " 'Body Type:': 'Coupe',\n",
       " 'Fuel Type:': 'Gasoline',\n",
       " 'Trim:': 'COBRA SVT',\n",
       " 'For Sale By:': 'Private Seller',\n",
       " 'Transmission:': 'Manual',\n",
       " 'Model:': 'Mustang',\n",
       " 'Number of Cylinders:': '8',\n",
       " 'Exterior Color:': 'Green',\n",
       " 'Make:': 'Ford',\n",
       " 'Vehicle Title:': 'Clean',\n",
       " 'Drive Type:': 'RWD',\n",
       " 'Engine:': '4.6L Gas V8'}"
      ]
     },
     "metadata": {},
     "execution_count": 91
    }
   ],
   "source": [
    "details = dict()\n",
    "for i, key in enumerate(info):\n",
    "    details[key.text.strip()] = info2[i].text.strip()\n",
    "\n",
    "details"
   ]
  },
  {
   "cell_type": "code",
   "execution_count": null,
   "metadata": {},
   "outputs": [],
   "source": []
  }
 ]
}